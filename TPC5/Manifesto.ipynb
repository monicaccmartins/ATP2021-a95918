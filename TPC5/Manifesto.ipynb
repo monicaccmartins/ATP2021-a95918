{
 "cells": [
  {
   "cell_type": "markdown",
   "id": "63193b32-79b4-4422-9c86-2368aa665421",
   "metadata": {},
   "source": [
    "# ATP 2021/22\n",
    "\n",
    "## TPC5 - Polinómios\n",
    "\n",
    "* **Autor:** Mónica Martins, a95918  \n",
    "* **Supervisor:** José Carlos Ramalho, www.di.uminho.pt/~jcr/\n",
    "* **Identificador:** TPC5   \n",
    "* **Título:** \"Polinómios\"  \n",
    "* **Data início:** 2020-11-08  \n",
    "* **Data fim:** 2020-11-14\n",
    "\n",
    "### Resumo:  \n",
    "A linguagem de programação utilizada para a realização deste projeto foi **python** e este encontra-se no repositório **ATP2021-a95918** do GitHub, na pasta **TPC5**. Esta pasta contém dois ficheiros: *TPC5.ipynb* e *Manifesto.ipynb*. \n",
    "\n",
    "O ficheiro **_TPC5.ipynb_** contém o código fonte que resolve o problema proposto e permite **efetuar operações com polinómios**. \n",
    "\n",
    "Primeiro, o utilizador recebe uma mensagem a informá-lo das suas opções (função _menu()_ ). Enquanto a opção for diferente de 0, o programa continua e o utilizador pode escolher sucessivas opções diferentes.   \n",
    "Ao selecionar a **opção 1**, o utilizador cria um polinómio (função _criarPolinomio()_ ) e é-lhe pedido o número de termos do polinómio bem como o coeficiente e expoente de cada um deles.  \n",
    "Na **opção 2**, o utilizador pode escolher um valor para atribuir a _x_ e recebe o resultado do polinómio, para esse valor (função _calcPol()_).   \n",
    "Na **opção 3**, é recebida uma tabela com _n_ linhas (escolhidas pelo utilizador), com o cálculo do polinómio para cada valor de x (correspondente ao número da linha).    \n",
    "A **opção 4** permite simplificar o polinómio, isto é, junta termos com o mesmo expoente (função _simplificaPol()_).\n",
    "Por fim, a **opção 5** permite calcular a derivada do polinómio (função _derivarPol()_)."
   ]
  },
  {
   "cell_type": "code",
   "execution_count": null,
   "id": "dfb75fda-8890-47e7-bb56-aa14fa72cb59",
   "metadata": {},
   "outputs": [],
   "source": []
  }
 ],
 "metadata": {
  "kernelspec": {
   "display_name": "Python 3 (ipykernel)",
   "language": "python",
   "name": "python3"
  },
  "language_info": {
   "codemirror_mode": {
    "name": "ipython",
    "version": 3
   },
   "file_extension": ".py",
   "mimetype": "text/x-python",
   "name": "python",
   "nbconvert_exporter": "python",
   "pygments_lexer": "ipython3",
   "version": "3.10.0"
  }
 },
 "nbformat": 4,
 "nbformat_minor": 5
}
