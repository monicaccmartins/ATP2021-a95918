{
 "cells": [
  {
   "cell_type": "markdown",
   "id": "1b1b7de2-b114-48b2-b0e2-4126b56413d0",
   "metadata": {},
   "source": [
    "# ATP 2021/22\n",
    "\n",
    "## TPC2 - Adivinha o número\n",
    "\n",
    "* **Autor:** Mónica Martins, a95918  \n",
    "* **Supervisor:** José Carlos Ramalho, www.di.uminho.pt/~jcr/\n",
    "* **Identificador:** TPC2  \n",
    "* **Título:** \"Adivinha o número\"  \n",
    "* **Data início:** 2020-10-11  \n",
    "* **Data fim:** 2020-10-14\n",
    "\n",
    "### Resumo:  \n",
    "A linguagem de programação utilizada para a realização deste projeto foi **python** e este encontra-se no repositório **ATP2021-a95918** do GitHub, na pasta **TPC2**. Esta pasta contém dois ficheiros: *TPC2.ipynb* e *Manifesto.ipynb*. \n",
    "\n",
    "O ficheiro **_TPC2.ipynb_** contém o código fonte que resolve o problema proposto e permite jogar um jogo chamado **\"Adivinha o número\"**. \n",
    "\n",
    "Primeiramente, o utilizador seleciona o jogador que quer ser (função _menu()_ ). Caso pretenda ser o jogador 1 (função _procurabinaria()_ ), este deve escolher um número entre 0 e 100 e o computador tenta adivinhar o número (através de **procura binária**). Caso contrário (função _descoberta()_ ), é o computador que escolhe um número aleatório (também entre 0 e 100) e o utilizador tenta adivinhar. Cada jogador tem 7 tentativas para adivinhar o número escolhido pelo outro e ganhar o jogo. No final, o utilizador pode escolher se quer jogar de novo (função _playagain()_ ).  \n",
    "\n",
    " \n"
   ]
  }
 ],
 "metadata": {
  "kernelspec": {
   "display_name": "Python 3 (ipykernel)",
   "language": "python",
   "name": "python3"
  },
  "language_info": {
   "codemirror_mode": {
    "name": "ipython",
    "version": 3
   },
   "file_extension": ".py",
   "mimetype": "text/x-python",
   "name": "python",
   "nbconvert_exporter": "python",
   "pygments_lexer": "ipython3",
   "version": "3.10.0"
  }
 },
 "nbformat": 4,
 "nbformat_minor": 5
}
