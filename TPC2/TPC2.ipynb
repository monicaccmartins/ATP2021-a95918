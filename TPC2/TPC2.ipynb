{
 "cells": [
  {
   "cell_type": "code",
   "execution_count": null,
   "id": "a756d11a",
   "metadata": {},
   "outputs": [
    {
     "name": "stdout",
     "output_type": "stream",
     "text": [
      "Bem vindo! \n",
      "    Escolhe o jogador 1 para escolher um número e eu o adivinhar.\n",
      "    Escolhe o jogador 2 para adivinhar um número à minha escolha.\n"
     ]
    }
   ],
   "source": [
    "def menu():\n",
    "    print(\"\"\"Bem vindo! \n",
    "    Escolhe o jogador 1 para escolher um número e eu o adivinhar.\n",
    "    Escolhe o jogador 2 para adivinhar um número à minha escolha.\"\"\")\n",
    "    player=int(input(\"Que jogador queres ser? \"))\n",
    "    print (\" \")\n",
    "    a=0\n",
    "    b=100\n",
    "    if player==1:\n",
    "        print(\"Escolhe um número de 0 a 100\")\n",
    "        print (\" \")\n",
    "        procurabinaria(a,b)\n",
    "    elif player==2:\n",
    "        pc(1, 21 , 2)\n",
    "    else:\n",
    "        print(\"Selecione um jogador válido!\")\n",
    "        menu()\n",
    "    \n",
    "    \n",
    "def procurabinaria(min,max):\n",
    "    if (min+max)%2==0:\n",
    "        novo=(min+max)/2\n",
    "    else:\n",
    "        novo=(min+max-1)/2\n",
    "    print('O número é o '+ str(novo) + '? ( sim/maior/menor )')\n",
    "    a=input()\n",
    "    if a=='sim':\n",
    "        b=input(\"Ganhei! Queres jogar outra vez? ( s/n )\")\n",
    "        if b=='s':\n",
    "            menu()\n",
    "        elif b=='n':\n",
    "            return\n",
    "        else:\n",
    "            print()\n",
    "    elif a=='maior':    #o numero novo+1 tem de passar a ser o limite inferior\n",
    "        min=novo+1\n",
    "        procurabinaria(min,max)\n",
    "    elif a=='menor':    #o numero novo-1 tem de passar a ser o limite superior\n",
    "        max=novo-1\n",
    "        procurabinaria(min,max)\n",
    "    else:\n",
    "        print(\"Insira uma resposta válida!\")\n",
    "        procurabinaria(min,max)\n",
    "    \n",
    "menu()\n",
    "        "
   ]
  },
  {
   "cell_type": "code",
   "execution_count": null,
   "id": "4428f42a",
   "metadata": {},
   "outputs": [],
   "source": []
  },
  {
   "cell_type": "code",
   "execution_count": null,
   "id": "a78c3d35",
   "metadata": {},
   "outputs": [],
   "source": []
  }
 ],
 "metadata": {
  "kernelspec": {
   "display_name": "Python 3 (ipykernel)",
   "language": "python",
   "name": "python3"
  },
  "language_info": {
   "codemirror_mode": {
    "name": "ipython",
    "version": 3
   },
   "file_extension": ".py",
   "mimetype": "text/x-python",
   "name": "python",
   "nbconvert_exporter": "python",
   "pygments_lexer": "ipython3",
   "version": "3.10.0"
  }
 },
 "nbformat": 4,
 "nbformat_minor": 5
}
