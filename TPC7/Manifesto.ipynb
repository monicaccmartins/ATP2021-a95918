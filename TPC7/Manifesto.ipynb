{
 "cells": [
  {
   "cell_type": "markdown",
   "id": "5f1bac31",
   "metadata": {},
   "source": [
    "# ATP 2021/22\n",
    "\n",
    "## TPC7 - Leitura e processamento de datasets\n",
    "\n",
    "* **Autor:** Mónica Martins, a95918  \n",
    "* **Supervisor:** José Carlos Ramalho, www.di.uminho.pt/~jcr/\n",
    "* **Identificador:** TPC7   \n",
    "* **Título:** \"Leitura e processamento de datasets\"  \n",
    "* **Data início:** 2020-11-26 \n",
    "* **Data fim:** 2020-11-27\n",
    "\n",
    "### Resumo:  \n",
    "A linguagem de programação utilizada para a realização deste projeto foi **python** e este encontra-se no repositório **ATP2021-a95918** do GitHub, na pasta **TPC7**. Esta pasta contém três ficheiros: *TPC7.ipynb*, *Manifesto.ipynb* e *alunos.csv*. \n",
    "\n",
    "O ficheiro **_TPC7.py_** contém o código fonte que resolve o problema proposto e permite **ler datasets, processá-los e produzir dados estatísticos**. \n",
    "\n",
    "Com o auxílio dos módulos _matplotlib.pyplot_ (para a produção de gráficos) e _io_ (para possibilitar a abertura do ficheiro que contém a base de dados), este projeto processa a informação de um ficheiro chamado **\"alunos.csv\"**.   \n",
    "Para além da leitura da base de dados, também pode ser criada uma tabela que apresenta o id, nome, curso e média de todos os alunos presentes no ficheiro.  \n",
    "É também possível, através da função _consultarDataset()_ e do id do aluno, receber toda a informação acerca do aluno a que corresponde esse id.    \n",
    "A função *top10()* devolve o id, nome e curso e média dos 10 alunos com as médias mais altas.   \n",
    "As funções *distribPorCurso()* e *distribPorMedia()* devolvem a contagem dos alunos por curso, e com uma determinada média, respetivamente.    \n",
    "    \n",
    "Em termos gráficos, a função *plotDistribPorCurso()* devolve um gráfico de barras que mostra o número de alunos por curso e a função *plotDistribPorMedia()* mostra o número de alunos com uma determinada média.   "
   ]
  }
 ],
 "metadata": {
  "kernelspec": {
   "display_name": "Python 3 (ipykernel)",
   "language": "python",
   "name": "python3"
  },
  "language_info": {
   "codemirror_mode": {
    "name": "ipython",
    "version": 3
   },
   "file_extension": ".py",
   "mimetype": "text/x-python",
   "name": "python",
   "nbconvert_exporter": "python",
   "pygments_lexer": "ipython3",
   "version": "3.10.0"
  }
 },
 "nbformat": 4,
 "nbformat_minor": 5
}
