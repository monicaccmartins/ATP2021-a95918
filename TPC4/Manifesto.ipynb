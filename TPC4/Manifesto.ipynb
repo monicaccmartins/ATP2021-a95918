{
 "cells": [
  {
   "cell_type": "markdown",
   "id": "3fff64ca-6200-4c92-90af-602b1577bea5",
   "metadata": {},
   "source": [
    "# ATP 2021/22\n",
    "\n",
    "## TPC4 - Frações\n",
    "\n",
    "* **Autor:** Mónica Martins, a95918  \n",
    "* **Supervisor:** José Carlos Ramalho, www.di.uminho.pt/~jcr/\n",
    "* **Identificador:** TPC4   \n",
    "* **Título:** \"Frações\"  \n",
    "* **Data início:** 2020-10-25  \n",
    "* **Data fim:** 2020-10-29\n",
    "\n",
    "### Resumo:  \n",
    "A linguagem de programação utilizada para a realização deste projeto foi **python** e este encontra-se no repositório **ATP2021-a95918** do GitHub, na pasta **TPC4**. Esta pasta contém dois ficheiros: *TPC4.ipynb* e *Manifesto.ipynb*. \n",
    "\n",
    "O ficheiro **_TPC4.ipynb_** contém o código fonte que resolve o problema proposto e permite **efetuar operações com frações**. \n",
    "\n",
    "Primeiro, o utilizador recebe uma mensagem a informá-lo das suas opções (função _menu()_ ). Enquanto a opção for diferente de 0, o programa continua e o utilizador pode escolher sucessivas opções diferentes.   \n",
    "Ao selecionar a **opção 1**, o utilizador cria uma fração (função _criarFracao()_ ) e, para isso, é-lhe pedido o numerar e o denominador.   \n",
    "Na **opção 2**, o utilizador, depois de fornecer uma fração, recebe o resultado da sua forma simplificada (função _simplificarFracao()_ ).    \n",
    "A **opção 3** devolve, após o utilizador fornecer duas frações, a soma delas (função _somaFrac()_ ). O mesmo acontece para as **opcões 4, 5 e 6** que fazem a subtração, multiplicação e dividsão de frações.     \n",
    "A **opção 7** permite ao utilizador criar uma lista de _n_ elementos selecionados pelo mesmo (função _criarListaA()_ ). Esta lista é usada posteriormente, caso o utilizador queira, por exemplo, somar todos os elementos da lista (**opção 8**). O utilizador pode, ainda, saber qual é a maior fração da lista que inseriu (**opção 9**, função _comparar()_ ). Caso o utilizador selecione a soma dos elementos da lista ou o maior elemento da lista, sem ter criado uma lista primeiro, o programa assume que a lista tem 0 elementos.\n",
    "\n",
    "\n"
   ]
  }
 ],
 "metadata": {
  "kernelspec": {
   "display_name": "Python 3 (ipykernel)",
   "language": "python",
   "name": "python3"
  },
  "language_info": {
   "codemirror_mode": {
    "name": "ipython",
    "version": 3
   },
   "file_extension": ".py",
   "mimetype": "text/x-python",
   "name": "python",
   "nbconvert_exporter": "python",
   "pygments_lexer": "ipython3",
   "version": "3.10.0"
  }
 },
 "nbformat": 4,
 "nbformat_minor": 5
}
