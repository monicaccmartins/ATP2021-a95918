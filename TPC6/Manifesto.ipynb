{
 "cells": [
  {
   "cell_type": "markdown",
   "id": "7dd5427a-ba0c-494b-9c13-3cdb39b96ae0",
   "metadata": {},
   "source": [
    "# ATP 2021/22\n",
    "\n",
    "## TPC6 - Polinómios com representação gráfica\n",
    "\n",
    "* **Autor:** Mónica Martins, a95918  \n",
    "* **Supervisor:** José Carlos Ramalho, www.di.uminho.pt/~jcr/\n",
    "* **Identificador:** TPC6   \n",
    "* **Título:** \"Polinómios com representação gráfica\"  \n",
    "* **Data início:** 2020-11-20  \n",
    "* **Data fim:** 2020-11-21\n",
    "\n",
    "### Resumo:  \n",
    "A linguagem de programação utilizada para a realização deste projeto foi **python** e este encontra-se no repositório **ATP2021-a95918** do GitHub, na pasta **TPC6**. Esta pasta contém dois ficheiros: *TPC6.py* e *Manifesto.ipynb*. \n",
    "\n",
    "O ficheiro **_TPC6.py_** contém o código fonte que resolve o problema proposto e permite **efetuar operações com polinómios e mostrar, graficamente, os mesmos**. \n",
    "\n",
    "Ao ficheiro __TPC5.ipynb__ foi adicionada a opção 6 que mostra graficamente o polinómio inserido, com auxílio ao módulo matplotlib.pyplot"
   ]
  }
 ],
 "metadata": {
  "kernelspec": {
   "display_name": "Python 3 (ipykernel)",
   "language": "python",
   "name": "python3"
  },
  "language_info": {
   "codemirror_mode": {
    "name": "ipython",
    "version": 3
   },
   "file_extension": ".py",
   "mimetype": "text/x-python",
   "name": "python",
   "nbconvert_exporter": "python",
   "pygments_lexer": "ipython3",
   "version": "3.10.0"
  }
 },
 "nbformat": 4,
 "nbformat_minor": 5
}
