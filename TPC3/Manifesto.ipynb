{
 "cells": [
  {
   "cell_type": "markdown",
   "id": "3fff64ca-6200-4c92-90af-602b1577bea5",
   "metadata": {},
   "source": [
    "# ATP 2021/22\n",
    "\n",
    "## TPC3 - Bubble Sort\n",
    "\n",
    "* **Autor:** Mónica Martins, a95918  \n",
    "* **Supervisor:** José Carlos Ramalho, www.di.uminho.pt/~jcr/\n",
    "* **Identificador:** TPC3  \n",
    "* **Título:** \"Bubble Sort\"  \n",
    "* **Data início:** 2020-10-19  \n",
    "* **Data fim:** 2020-10-24\n",
    "\n",
    "### Resumo:  \n",
    "A linguagem de programação utilizada para a realização deste projeto foi **python** e este encontra-se no repositório **ATP2021-a95918** do GitHub, na pasta **TPC3**. Esta pasta contém dois ficheiros: *TPC3.ipynb* e *Manifesto.ipynb*. \n",
    "\n",
    "O ficheiro **_TPC3.ipynb_** contém o código fonte que resolve o problema proposto e permite **ordenar listas** criadas pelo utilizador. \n",
    "\n",
    "Primeiro, o utilizador recebe uma mensagem a informá-lo das suas opções (função _menu()_ ). Caso escolha a opção 1, o utilizador cria uma lista manual, com números à sua escolha (função _criarListaM()_ ). Caso escolha a opção 2, apenas tem de escolher o número de elementos que a lista deve ter e é gerada uma função com elementos aleatórios entre 0 e 100 (função _criarListaA()_ ). Em qualquer um dos casos, é chamada a função **_sort()_** que ordena a lista criada.\n",
    "\n",
    " \n"
   ]
  }
 ],
 "metadata": {
  "kernelspec": {
   "display_name": "Python 3 (ipykernel)",
   "language": "python",
   "name": "python3"
  },
  "language_info": {
   "codemirror_mode": {
    "name": "ipython",
    "version": 3
   },
   "file_extension": ".py",
   "mimetype": "text/x-python",
   "name": "python",
   "nbconvert_exporter": "python",
   "pygments_lexer": "ipython3",
   "version": "3.10.0"
  }
 },
 "nbformat": 4,
 "nbformat_minor": 5
}
