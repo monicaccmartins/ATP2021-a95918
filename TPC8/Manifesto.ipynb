{
 "cells": [
  {
   "cell_type": "markdown",
   "metadata": {},
   "source": [
    "# ATP 2021/22\n",
    "\n",
    "## TPC8 - Manipulação de base de dados e utilização de GUI\n",
    "\n",
    "* **Autor:** Mónica Martins, a95918  \n",
    "* **Supervisor:** José Carlos Ramalho, www.di.uminho.pt/~jcr/\n",
    "* **Identificador:** TPC8   \n",
    "* **Título:** \"Manipulação de base de dados e utilização de GUI\"  \n",
    "* **Data início:** 2020-12-04 \n",
    "* **Data fim:** 2020-12-07\n",
    "\n",
    "### Resumo:  \n",
    "A linguagem de programação utilizada para a realização deste projeto foi **python** e este encontra-se no repositório **ATP2021-a95918** do GitHub, na pasta **TPC8**. Esta pasta contém quatro ficheiros: *TPC8.ipynb*, *Manifesto.ipynb*, *emd.csv* e *TPC8.py*. \n",
    "\n",
    "O ficheiro **TPC8.py** contém o código fonte (e correspondente ao módulo utilizado em TPC8.ipynb) que resolve o problema proposto e permite **ler datasets, processá-los e produzir dados estatísticos**. \n",
    "\n",
    "Com o auxílio dos módulos _matplotlib.pyplot_ (para a produção de gráficos)  _os_ (para confirmar a existência da base de dados) e _PySimpleGUI, este projeto processa a informação de ficheiros, como é o caso do ficheiro **\"emd.csv\"**.     \n",
    "\n",
    "O ficheiro **TPC8App.ipynb** consiste no desenvolvimento de uma aplicação que cria uma interface com uma caixa de texto (para a introdução do nome do ficheiro a carregar) e butões (\"Carregar Base de Dados\", \"Modalidades\", \"Distribuição por Ano\", \"Distribuição por Modalidades\", \"Distribuição por Clube\" e \"OK\"). Consoante o butão selecionado, a ListBox da interface devolve as informações relativas à Base de Dados carregada.   \n"
   ]
  }
 ],
 "metadata": {
  "interpreter": {
   "hash": "28b6b4d418e3a7fd435ddcbc4ffa797171d4eaac7243676abf2b881977d5fe61"
  },
  "kernelspec": {
   "display_name": "Python 3.10.0 64-bit",
   "language": "python",
   "name": "python3"
  },
  "language_info": {
   "name": "python",
   "version": "3.10.0"
  },
  "orig_nbformat": 4
 },
 "nbformat": 4,
 "nbformat_minor": 2
}
