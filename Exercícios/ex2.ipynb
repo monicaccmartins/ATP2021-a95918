{
 "cells": [
  {
   "cell_type": "code",
   "execution_count": 19,
   "id": "466d70cc-6ecd-4b62-97a8-480e5685dc39",
   "metadata": {},
   "outputs": [],
   "source": [
    "def swapPositions(lista, pos1, pos2):\n",
    "    if 0<pos1>=len(lista) or 0<pos2>=len(lista):\n",
    "        print(\"Introduziu uma posição inválida!\")\n",
    "    else:\n",
    "        temp1=lista[pos1]\n",
    "        temp2=lista[pos2]\n",
    "        lista.pop(pos1)\n",
    "        lista.pop(pos2-1)\n",
    "        lista.insert(pos2-1, temp1)\n",
    "        lista.insert(pos1, temp2)\n",
    "    return lista"
   ]
  },
  {
   "cell_type": "code",
   "execution_count": 21,
   "id": "713f61c4-13f0-477b-b4f7-cf6a60892de3",
   "metadata": {},
   "outputs": [
    {
     "data": {
      "text/plain": [
       "[13, 17, 32, 2, 25]"
      ]
     },
     "execution_count": 21,
     "metadata": {},
     "output_type": "execute_result"
    }
   ],
   "source": [
    "swapPositions( [13, 2, 32, 17, 25], 1,3)"
   ]
  }
 ],
 "metadata": {
  "kernelspec": {
   "display_name": "Python 3 (ipykernel)",
   "language": "python",
   "name": "python3"
  },
  "language_info": {
   "codemirror_mode": {
    "name": "ipython",
    "version": 3
   },
   "file_extension": ".py",
   "mimetype": "text/x-python",
   "name": "python",
   "nbconvert_exporter": "python",
   "pygments_lexer": "ipython3",
   "version": "3.10.0"
  }
 },
 "nbformat": 4,
 "nbformat_minor": 5
}
