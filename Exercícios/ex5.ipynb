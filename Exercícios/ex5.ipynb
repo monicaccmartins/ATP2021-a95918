{
 "cells": [
  {
   "cell_type": "code",
   "execution_count": 82,
   "id": "89b441bd-a496-4dd0-8a5e-fbf1f6a02b6f",
   "metadata": {},
   "outputs": [],
   "source": [
    "def selectionSort(lista):\n",
    "    nova=[]\n",
    "    while len(lista)>1:\n",
    "        min=lista[0]\n",
    "        for i in range(1,len(lista)):\n",
    "            if lista[i]<min:\n",
    "                min=lista[i]\n",
    "                \n",
    "        nova.append(min)   \n",
    "        lista.pop(lista.index(min))        \n",
    "    nova.append(lista[0])\n",
    "\n",
    "    return nova"
   ]
  },
  {
   "cell_type": "code",
   "execution_count": 86,
   "id": "8c7c8403-e738-4f14-aa30-b05e983e7622",
   "metadata": {},
   "outputs": [
    {
     "data": {
      "text/plain": [
       "[2, 13, 17, 25, 32]"
      ]
     },
     "execution_count": 86,
     "metadata": {},
     "output_type": "execute_result"
    }
   ],
   "source": [
    "selectionSort([13, 2, 32, 17, 25])"
   ]
  }
 ],
 "metadata": {
  "kernelspec": {
   "display_name": "Python 3 (ipykernel)",
   "language": "python",
   "name": "python3"
  },
  "language_info": {
   "codemirror_mode": {
    "name": "ipython",
    "version": 3
   },
   "file_extension": ".py",
   "mimetype": "text/x-python",
   "name": "python",
   "nbconvert_exporter": "python",
   "pygments_lexer": "ipython3",
   "version": "3.10.0"
  }
 },
 "nbformat": 4,
 "nbformat_minor": 5
}
