{
 "cells": [
  {
   "cell_type": "code",
   "execution_count": 1,
   "id": "384509fb-6c96-4c65-911f-87217b3bd60e",
   "metadata": {},
   "outputs": [],
   "source": [
    "def swapList(lista):\n",
    "    nova=lista.copy()\n",
    "    nova.pop(0)\n",
    "    nova.pop(len(nova)-1)\n",
    "    nova.insert(0, lista[len(lista)-1])\n",
    "    nova.append(lista[0])\n",
    "    \n",
    "    return nova\n",
    "\n"
   ]
  },
  {
   "cell_type": "code",
   "execution_count": 2,
   "id": "d0f1a5db-e7ea-49db-a5a3-206a94ec0771",
   "metadata": {},
   "outputs": [
    {
     "data": {
      "text/plain": [
       "[25, 2, 32, 17, 13]"
      ]
     },
     "execution_count": 2,
     "metadata": {},
     "output_type": "execute_result"
    }
   ],
   "source": [
    "swapList([13, 2, 32, 17, 25])"
   ]
  }
 ],
 "metadata": {
  "kernelspec": {
   "display_name": "Python 3 (ipykernel)",
   "language": "python",
   "name": "python3"
  },
  "language_info": {
   "codemirror_mode": {
    "name": "ipython",
    "version": 3
   },
   "file_extension": ".py",
   "mimetype": "text/x-python",
   "name": "python",
   "nbconvert_exporter": "python",
   "pygments_lexer": "ipython3",
   "version": "3.10.0"
  }
 },
 "nbformat": 4,
 "nbformat_minor": 5
}
