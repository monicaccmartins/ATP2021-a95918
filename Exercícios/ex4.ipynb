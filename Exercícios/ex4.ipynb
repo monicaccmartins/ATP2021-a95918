{
 "cells": [
  {
   "cell_type": "code",
   "execution_count": 1,
   "id": "7a0b79e0-941d-4387-9e99-53422d074ad1",
   "metadata": {},
   "outputs": [],
   "source": [
    "def avgList(lista):\n",
    "    soma=0\n",
    "    for i in range(len(lista)):\n",
    "        soma=soma+lista[i]\n",
    "    avg=soma/len(lista)\n",
    "    return avg"
   ]
  },
  {
   "cell_type": "code",
   "execution_count": 2,
   "id": "4a24f29b-59b2-497d-b1a9-a1921bdcc819",
   "metadata": {},
   "outputs": [
    {
     "data": {
      "text/plain": [
       "17.8"
      ]
     },
     "execution_count": 2,
     "metadata": {},
     "output_type": "execute_result"
    }
   ],
   "source": [
    "avgList([13, 2, 32, 17, 25])"
   ]
  }
 ],
 "metadata": {
  "kernelspec": {
   "display_name": "Python 3 (ipykernel)",
   "language": "python",
   "name": "python3"
  },
  "language_info": {
   "codemirror_mode": {
    "name": "ipython",
    "version": 3
   },
   "file_extension": ".py",
   "mimetype": "text/x-python",
   "name": "python",
   "nbconvert_exporter": "python",
   "pygments_lexer": "ipython3",
   "version": "3.10.0"
  }
 },
 "nbformat": 4,
 "nbformat_minor": 5
}
